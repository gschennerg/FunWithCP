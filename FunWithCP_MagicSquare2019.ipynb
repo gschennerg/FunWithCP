{
  "nbformat": 4,
  "nbformat_minor": 0,
  "metadata": {
    "colab": {
      "name": "FunWithCP_MagicSquare2019.ipynb",
      "version": "0.3.2",
      "provenance": [],
      "collapsed_sections": []
    },
    "kernelspec": {
      "name": "python3",
      "display_name": "Python 3"
    }
  },
  "cells": [
    {
      "metadata": {
        "id": "iDdL35QZ-6Ka",
        "colab_type": "text"
      },
      "cell_type": "markdown",
      "source": [
        "# Fun with Constraint Programming\n",
        "## Magic Square 2019\n",
        "For the blog [Fun with Constraint Programming](https://funwithcp.blogspot.com)\n",
        "\n",
        "Author: Gottfried Schenner\n",
        "\n",
        "\n",
        "  ---"
      ]
    },
    {
      "metadata": {
        "id": "NbT-itN3APk7",
        "colab_type": "text"
      },
      "cell_type": "markdown",
      "source": [
        "## Environment\n",
        "The Jupyter notebooks run with a standard Python 3 environment. If you need additional packages you can install them with the pip command. In our case we need the [ortools](https://developers.google.com/optimization/) as we are using the Google CP-SAT Solver. \n",
        "\n",
        "\n",
        "\n",
        "\n"
      ]
    },
    {
      "metadata": {
        "id": "6nBFnXxY-1iq",
        "colab_type": "code",
        "outputId": "19287b22-0cfa-4ef9-e3c8-225ae53c56bb",
        "colab": {
          "base_uri": "https://localhost:8080/",
          "height": 116
        }
      },
      "cell_type": "code",
      "source": [
        "!pip install ortools"
      ],
      "execution_count": 8,
      "outputs": [
        {
          "output_type": "stream",
          "text": [
            "Requirement already satisfied: ortools in /usr/local/lib/python3.6/dist-packages (6.10.6025)\n",
            "Requirement already satisfied: protobuf>=3.6.1 in /usr/local/lib/python3.6/dist-packages (from ortools) (3.6.1)\n",
            "Requirement already satisfied: six>=1.10 in /usr/local/lib/python3.6/dist-packages (from ortools) (1.11.0)\n",
            "Requirement already satisfied: setuptools in /usr/local/lib/python3.6/dist-packages (from protobuf>=3.6.1->ortools) (40.6.3)\n"
          ],
          "name": "stdout"
        }
      ]
    },
    {
      "metadata": {
        "id": "4p2E21G-EZHz",
        "colab_type": "text"
      },
      "cell_type": "markdown",
      "source": [
        "\n",
        "## Magic Square\n",
        "\n",
        "A magic square of size N contains the numbers 1to N*N and the sum of the rows and cells are all the same (magic) number.\n",
        "\n",
        "In 1514 Albrecht Dürer created a famous Magic Square contained in his work [Melencolia](https://upload.wikimedia.org/wikipedia/commons/1/14/Melencolia_I_%28Durero%29.jpg), with the numbers 15 and 14 next to each other i.e. the year of its creation. As you can check for yourself the sum of each row and columns is 34, the so called Magic Constant (https://en.wikipedia.org/wiki/Magic_constant)\n",
        "If you are interested in the details have a look at http://mathworld.wolfram.com/DuerersMagicSquare.html\n"
      ]
    },
    {
      "metadata": {
        "id": "0cABkzBLLSTv",
        "colab_type": "text"
      },
      "cell_type": "markdown",
      "source": [
        "###<table>\n",
        "<tbody><tr>\n",
        "<td>16</td>\n",
        "<td>3</td>\n",
        "<td>2</td>\n",
        "<td>13\n",
        "</td></tr>\n",
        "<tr>\n",
        "<td>5</td>\n",
        "<td>10</td>\n",
        "<td>11</td>\n",
        "<td>8\n",
        "</td></tr>\n",
        "<tr>\n",
        "<td>9</td>\n",
        "<td>6</td>\n",
        "<td>7</td>\n",
        "<td>12\n",
        "</td></tr>\n",
        "<tr>\n",
        "<td>4</td>\n",
        "<td>15</td>\n",
        "<td>14</td>\n",
        "<td>1\n",
        "</td></tr></tbody></table>\n",
        " </body>"
      ]
    },
    {
      "metadata": {
        "id": "V5SR58R7X9YX",
        "colab_type": "text"
      },
      "cell_type": "markdown",
      "source": [
        "## Happy New Year Magic Square with Google's CP SAT Solver\n",
        "\n",
        "If we want to create a magic square of size n with constraint programming, we need the following:\n",
        "* a square of numbers ranging from 1 to N x N\n",
        "* the sum of each row and the sum of each column must be the same (magic) number\n",
        "* and because we want a 20 19 magic square, 20 19 must be contained next to each other for example in the last row.\n",
        "\n",
        "The next program does exactly that. Run it and you'll get a 6x6 square with 20 19 in the last row.\n",
        "\n",
        "See if you can identify the constraints from above in the code.\n",
        "\n"
      ]
    },
    {
      "metadata": {
        "id": "9prDyFfAEZyK",
        "colab_type": "code",
        "outputId": "88b85b26-a70e-46a3-e351-b47538669bda",
        "colab": {
          "base_uri": "https://localhost:8080/",
          "height": 176
        }
      },
      "cell_type": "code",
      "source": [
        "from ortools.sat.python import cp_model\n",
        "from IPython.core.display import display, HTML\n",
        "\n",
        "model = cp_model.CpModel()\n",
        "# create variables \n",
        "N = 6\n",
        "MN = model.NewIntVar(0,N*N*N,\"magicnumber\")\n",
        "square = {}\n",
        "for i in range(N):\n",
        "  for j in range(N):\n",
        "    name = 'c_{%i}_{%i}' % (i,j)\n",
        "    square[i,j] = model.NewIntVar(1, N*N, name)\n",
        "\n",
        "# add the constraints\n",
        "\n",
        "for i in range(N):\n",
        "  row = [square[i,j] for j in range(N)]\n",
        "  column = [square[j,i] for j in range(N)]      \n",
        "  model.Add(sum(row) == MN)\n",
        "  model.Add(sum(column) == MN)\n",
        "  \n",
        "model.AddAllDifferent([square[i,j] for i in range(N) for j in range(N)])\n",
        "# The happy new year 2019 constraints\n",
        "model.Add(square[N-1,N/2-1] == 20)\n",
        "model.Add(square[N-1,N/2] == 19)\n",
        "\n",
        "def print_solution(solver, N, square):\n",
        "  html = '''\n",
        "  <style>\n",
        "    table, th, td {\n",
        "    border: 1px solid black;\n",
        "    text-align: center\n",
        "  }\n",
        "  </style>\n",
        "  '''\n",
        "  html += \"<table>\"\n",
        "  for i in range(N):\n",
        "    html += \"<tr>\"\n",
        "    for j in range(N):\n",
        "      html+= \"<td>%2i</td>\" % solver.Value(square[i,j])\n",
        "    html += \"</tr>\"\n",
        "  html += \"</table>\"\n",
        "  display(HTML(html))\n",
        "             \n",
        "\n",
        "solver = cp_model.CpSolver()\n",
        "status = solver.Solve(model)\n",
        "if (status == cp_model.FEASIBLE):\n",
        "  print(\"Magic Number:{}\".format(solver.Value(MN)))\n",
        "  print_solution(solver, N, square)\n",
        "else:\n",
        "  print(\"Not feasible!\")"
      ],
      "execution_count": 9,
      "outputs": [
        {
          "output_type": "stream",
          "text": [
            "Magic Number:111\n"
          ],
          "name": "stdout"
        },
        {
          "output_type": "display_data",
          "data": {
            "text/html": [
              "\n",
              "  <style>\n",
              "    table, th, td {\n",
              "    border: 1px solid black;\n",
              "    text-align: center\n",
              "  }\n",
              "  </style>\n",
              "  <table><tr><td> 2</td><td>36</td><td> 7</td><td> 5</td><td>34</td><td>27</td></tr><tr><td>29</td><td>32</td><td> 1</td><td> 4</td><td>31</td><td>14</td></tr><tr><td>16</td><td> 6</td><td>30</td><td>35</td><td> 3</td><td>21</td></tr><tr><td>33</td><td> 8</td><td>25</td><td>26</td><td> 9</td><td>10</td></tr><tr><td>18</td><td>17</td><td>28</td><td>22</td><td>11</td><td>15</td></tr><tr><td>13</td><td>12</td><td>20</td><td>19</td><td>23</td><td>24</td></tr></table>"
            ],
            "text/plain": [
              "<IPython.core.display.HTML object>"
            ]
          },
          "metadata": {
            "tags": []
          }
        }
      ]
    },
    {
      "metadata": {
        "id": "k1PtIF1j5I4z",
        "colab_type": "text"
      },
      "cell_type": "markdown",
      "source": [
        "I recommend that you experiment with the program let 20 19 appear somewhere else in the square, try bigger squares...\n",
        "\n",
        "A Happy 2019 and\n",
        "Have Fun With Constraint Programming!"
      ]
    },
    {
      "metadata": {
        "id": "dwMAOD1j6pN_",
        "colab_type": "code",
        "colab": {}
      },
      "cell_type": "code",
      "source": [
        ""
      ],
      "execution_count": 0,
      "outputs": []
    }
  ]
}